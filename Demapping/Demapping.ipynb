{
 "cells": [
  {
   "cell_type": "code",
   "execution_count": 1,
   "id": "78fd6718",
   "metadata": {},
   "outputs": [
    {
     "data": {
      "application/javascript": [
       "\n",
       "try {\n",
       "require(['notebook/js/codecell'], function(codecell) {\n",
       "  codecell.CodeCell.options_default.highlight_modes[\n",
       "      'magic_text/x-csrc'] = {'reg':[/^%%microblaze/]};\n",
       "  Jupyter.notebook.events.one('kernel_ready.Kernel', function(){\n",
       "      Jupyter.notebook.get_cells().map(function(cell){\n",
       "          if (cell.cell_type == 'code'){ cell.auto_highlight(); } }) ;\n",
       "  });\n",
       "});\n",
       "} catch (e) {};\n"
      ]
     },
     "metadata": {},
     "output_type": "display_data"
    },
    {
     "data": {
      "application/javascript": [
       "\n",
       "try {\n",
       "require(['notebook/js/codecell'], function(codecell) {\n",
       "  codecell.CodeCell.options_default.highlight_modes[\n",
       "      'magic_text/x-csrc'] = {'reg':[/^%%pybind11/]};\n",
       "  Jupyter.notebook.events.one('kernel_ready.Kernel', function(){\n",
       "      Jupyter.notebook.get_cells().map(function(cell){\n",
       "          if (cell.cell_type == 'code'){ cell.auto_highlight(); } }) ;\n",
       "  });\n",
       "});\n",
       "} catch (e) {};\n"
      ]
     },
     "metadata": {},
     "output_type": "display_data"
    }
   ],
   "source": [
    "from pynq import Overlay\n",
    "\n",
    "overlay = Overlay('demapping.bit')"
   ]
  },
  {
   "cell_type": "code",
   "execution_count": 2,
   "id": "bacb4d80",
   "metadata": {},
   "outputs": [],
   "source": [
    "overlay?"
   ]
  },
  {
   "cell_type": "code",
   "execution_count": 3,
   "id": "970796bd",
   "metadata": {},
   "outputs": [],
   "source": [
    "top_func = overlay.demapping_0"
   ]
  },
  {
   "cell_type": "code",
   "execution_count": 4,
   "id": "9310b541",
   "metadata": {},
   "outputs": [
    {
     "data": {
      "text/plain": [
       "RegisterMap {\n",
       "  A = Register(A=write-only),\n",
       "  B = Register(B=write-only),\n",
       "  I = Register(I=4294967293),\n",
       "  I_ctrl = Register(I_ap_vld=1, RESERVED=0),\n",
       "  Q = Register(Q=4294967293),\n",
       "  Q_ctrl = Register(Q_ap_vld=1, RESERVED=0)\n",
       "}"
      ]
     },
     "execution_count": 4,
     "metadata": {},
     "output_type": "execute_result"
    }
   ],
   "source": [
    "top_func.register_map"
   ]
  },
  {
   "cell_type": "code",
   "execution_count": 10,
   "id": "a4bff837",
   "metadata": {},
   "outputs": [
    {
     "name": "stdout",
     "output_type": "stream",
     "text": [
      "I: 1, Q: -3\n",
      "CPU times: user 2.5 ms, sys: 0 ns, total: 2.5 ms\n",
      "Wall time: 3.52 ms\n"
     ]
    }
   ],
   "source": [
    "%%time\n",
    "def demapping(A, B):\n",
    "    # Define the mapping table\n",
    "    mapping_table = [\n",
    "        [-3, -3], [-3, -1], [-3, 3], [-3, 1],\n",
    "        [-1, -3], [-1, -1], [-1, 3], [-1, 1],\n",
    "        [3, -3], [3, -1], [3, 3], [3, 1],\n",
    "        [1, -3], [1, -1], [1, 3], [1, 1]\n",
    "    ]\n",
    "    \n",
    "    min_dist = 10000.0  # Arbitrary large value for initialization\n",
    "    min_index = 0\n",
    "    \n",
    "    # Loop to calculate the closest mapping point\n",
    "    for i in range(16):\n",
    "        dist = ((A - mapping_table[i][0] * 100) ** 2 +\n",
    "                (B - mapping_table[i][1] * 100) ** 2)\n",
    "        \n",
    "        if min_dist > dist:\n",
    "            min_dist = dist\n",
    "            min_index = i\n",
    "    \n",
    "    # Get the I and Q values\n",
    "    I = mapping_table[min_index][0]\n",
    "    Q = mapping_table[min_index][1]\n",
    "    \n",
    "    return I, Q\n",
    "\n",
    "# Example usage\n",
    "A = 150\n",
    "B = -250\n",
    "I, Q = demapping(A, B)\n",
    "print(f\"I: {I}, Q: {Q}\")\n"
   ]
  },
  {
   "cell_type": "code",
   "execution_count": 17,
   "id": "4be68871",
   "metadata": {},
   "outputs": [
    {
     "name": "stdout",
     "output_type": "stream",
     "text": [
      "CPU times: user 413 µs, sys: 51 µs, total: 464 µs\n",
      "Wall time: 514 µs\n"
     ]
    },
    {
     "data": {
      "text/plain": [
       "1"
      ]
     },
     "execution_count": 17,
     "metadata": {},
     "output_type": "execute_result"
    }
   ],
   "source": [
    "%%time\n",
    "top_func.register_map.A = 150\n",
    "top_func.register_map.B = 150\n",
    "\n",
    "\n",
    "val = top_func.read(0x30)\n",
    "val"
   ]
  },
  {
   "cell_type": "code",
   "execution_count": null,
   "id": "13d61fc7",
   "metadata": {},
   "outputs": [],
   "source": []
  }
 ],
 "metadata": {
  "kernelspec": {
   "display_name": "Python 3 (ipykernel)",
   "language": "python",
   "name": "python3"
  },
  "language_info": {
   "codemirror_mode": {
    "name": "ipython",
    "version": 3
   },
   "file_extension": ".py",
   "mimetype": "text/x-python",
   "name": "python",
   "nbconvert_exporter": "python",
   "pygments_lexer": "ipython3",
   "version": "3.10.4"
  }
 },
 "nbformat": 4,
 "nbformat_minor": 5
}
